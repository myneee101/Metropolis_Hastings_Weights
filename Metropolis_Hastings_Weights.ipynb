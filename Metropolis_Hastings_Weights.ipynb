{
  "nbformat": 4,
  "nbformat_minor": 0,
  "metadata": {
    "colab": {
      "provenance": []
    },
    "kernelspec": {
      "name": "python3",
      "display_name": "Python 3"
    },
    "language_info": {
      "name": "python"
    }
  },
  "cells": [
    {
      "cell_type": "code",
      "execution_count": 8,
      "metadata": {
        "colab": {
          "base_uri": "https://localhost:8080/"
        },
        "id": "dbLwTfjCF_tr",
        "outputId": "b08779f2-cd09-4e07-a043-62d846320848"
      },
      "outputs": [
        {
          "output_type": "stream",
          "name": "stdout",
          "text": [
            "[[0.42 0.25 0.   0.   0.33]\n",
            " [0.25 0.25 0.25 0.25 0.  ]\n",
            " [0.   0.25 0.5  0.25 0.  ]\n",
            " [0.   0.25 0.25 0.25 0.25]\n",
            " [0.33 0.   0.   0.25 0.42]]\n"
          ]
        }
      ],
      "source": [
        "import numpy as np\n",
        "\n",
        "def metropolis_hastings_weight_calculation(a):\n",
        "    \"\"\"\n",
        "    Calculates Metropolis-Hastings weights for a given adjacency matrix.\n",
        "\n",
        "    Args:\n",
        "      a: Adjacency matrix representing the initial relationships or connections.\n",
        "\n",
        "    Returns:\n",
        "      a_w: A new matrix with the same dimensions as 'a' containing the calculated Metropolis-Hastings weights.\n",
        "    \"\"\"\n",
        "    a = np.array(a)\n",
        "    num_nodes = len(a)\n",
        "    a_w = np.zeros_like(a, dtype=float)\n",
        "\n",
        "    degrees = np.sum(a, axis=1)\n",
        "    max_degree = np.max(degrees)\n",
        "\n",
        "    for i in range(num_nodes):\n",
        "        for j in range(num_nodes):\n",
        "            if i != j and a[i][j] != 0:  # Non-diagonal elements with an edge\n",
        "                a_w[i][j] = 1 / (max(degrees[i], degrees[j]) + 1)\n",
        "            elif i == j:  # Diagonal elements\n",
        "                a_w[i][j] = 1 - sum(1 / (max(degrees[i], degrees[k]) + 1) for k in range(num_nodes) if a[i][k] != 0)\n",
        "\n",
        "    return np.round(a_w, 2)\n",
        "\n",
        "# Example usage\n",
        "a = [\n",
        "    [0, 1, 0, 0, 1],\n",
        "    [1, 0, 1, 1, 0],\n",
        "    [0, 1, 0, 1, 0],\n",
        "    [0, 1, 1, 0, 1],\n",
        "    [1, 0, 0, 1, 0]\n",
        "]\n",
        "\n",
        "a_w = metropolis_hastings_weight_calculation(a)\n",
        "print(a_w)\n"
      ]
    },
    {
      "cell_type": "code",
      "source": [
        "import numpy as np\n",
        "\n",
        "def metropolis_hastings_weight_calculation(a):\n",
        "    \"\"\"\n",
        "    Calculates Metropolis-Hastings weights for a given adjacency matrix.\n",
        "\n",
        "    Args:\n",
        "      a: Adjacency matrix representing the initial relationships or connections.\n",
        "\n",
        "    Returns:\n",
        "      a_w: A new matrix with the same dimensions as 'a' containing the calculated Metropolis-Hastings weights.\n",
        "    \"\"\"\n",
        "    a = np.array(a)\n",
        "    num_nodes = len(a)\n",
        "    a_w = np.zeros_like(a, dtype=float)\n",
        "\n",
        "    degrees = np.sum(a, axis=1)\n",
        "    max_degree = np.max(degrees)\n",
        "\n",
        "    for i in range(num_nodes):\n",
        "        for j in range(num_nodes):\n",
        "            if i != j and a[i][j] != 0:  # Non-diagonal elements with an edge\n",
        "                a_w[i][j] = 1 / (max(degrees[i], degrees[j]) + 1)\n",
        "            elif i == j:  # Diagonal elements\n",
        "                a_w[i][j] = 1 - sum(1 / (max(degrees[i], degrees[k]) + 1) for k in range(num_nodes) if a[i][k] != 0)\n",
        "\n",
        "    return np.round(a_w, 2)\n",
        "\n",
        "# Generating the adjacency matrix\n",
        "a = [\n",
        "    [0, 1, 0, 0, 1],\n",
        "    [1, 0, 1, 1, 0],\n",
        "    [0, 1, 0, 1, 0],\n",
        "    [0, 1, 1, 0, 1],\n",
        "    [1, 0, 0, 1, 0]\n",
        "]\n",
        "\n",
        "# Calculating the Metropolis-Hastings weights\n",
        "a_w = metropolis_hastings_weight_calculation(a)\n",
        "\n",
        "# Printing the resulting weight matrix\n",
        "print(a_w)\n"
      ],
      "metadata": {
        "colab": {
          "base_uri": "https://localhost:8080/"
        },
        "id": "xR1K9624_35r",
        "outputId": "5df1128a-b389-4625-f762-bfed0ecf4f1a"
      },
      "execution_count": 9,
      "outputs": [
        {
          "output_type": "stream",
          "name": "stdout",
          "text": [
            "[[0.42 0.25 0.   0.   0.33]\n",
            " [0.25 0.25 0.25 0.25 0.  ]\n",
            " [0.   0.25 0.5  0.25 0.  ]\n",
            " [0.   0.25 0.25 0.25 0.25]\n",
            " [0.33 0.   0.   0.25 0.42]]\n"
          ]
        }
      ]
    },
    {
      "cell_type": "code",
      "source": [
        "import numpy as np\n",
        "\n",
        "def generate_adjacency_matrix(size, density=0.5):\n",
        "    \"\"\"\n",
        "    Generates a random adjacency matrix for an undirected graph.\n",
        "\n",
        "    Args:\n",
        "      size: The number of nodes in the graph.\n",
        "      density: The probability of an edge existing between any two nodes.\n",
        "\n",
        "    Returns:\n",
        "      a: A random adjacency matrix.\n",
        "    \"\"\"\n",
        "    a = np.random.rand(size, size) < density\n",
        "    np.fill_diagonal(a, 0)  # No self-loops\n",
        "    a = np.triu(a)  # Take the upper triangle\n",
        "    a += a.T  # Mirror the upper triangle to the lower triangle to make it symmetric\n",
        "    return a.astype(int)\n",
        "\n",
        "def metropolis_hastings_weight_calculation(a):\n",
        "    \"\"\"\n",
        "    Calculates Metropolis-Hastings weights for a given adjacency matrix.\n",
        "\n",
        "    Args:\n",
        "      a: Adjacency matrix representing the initial relationships or connections.\n",
        "\n",
        "    Returns:\n",
        "      a_w: A new matrix with the same dimensions as 'a' containing the calculated Metropolis-Hastings weights.\n",
        "    \"\"\"\n",
        "    a = np.array(a)\n",
        "    num_nodes = len(a)\n",
        "    a_w = np.zeros_like(a, dtype=float)\n",
        "\n",
        "    degrees = np.sum(a, axis=1)\n",
        "    max_degree = np.max(degrees)\n",
        "\n",
        "    for i in range(num_nodes):\n",
        "        for j in range(num_nodes):\n",
        "            if i != j and a[i][j] != 0:  # Non-diagonal elements with an edge\n",
        "                a_w[i][j] = 1 / (max(degrees[i], degrees[j]) + 1)\n",
        "            elif i == j:  # Diagonal elements\n",
        "                a_w[i][j] = 1 - sum(1 / (max(degrees[i], degrees[k]) + 1) for k in range(num_nodes) if a[i][k] != 0)\n",
        "\n",
        "    return np.round(a_w, 2)\n",
        "\n",
        "# Generate a random adjacency matrix\n",
        "size = 5  # Change the size as needed\n",
        "adj_matrix = generate_adjacency_matrix(size, density=0.4)  # You can adjust the density as needed\n",
        "\n",
        "# Calculating the Metropolis-Hastings weights\n",
        "weights_matrix = metropolis_hastings_weight_calculation(adj_matrix)\n",
        "\n",
        "# Printing the generated adjacency matrix and the resulting weight matrix\n",
        "print(\"Adjacency Matrix:\")\n",
        "print(adj_matrix)\n",
        "print(\"\\nMetropolis-Hastings Weight Matrix:\")\n",
        "print(weights_matrix)\n",
        "\n",
        "# Check if sum of each row and column equals 1\n",
        "row_sums = np.sum(weights_matrix, axis=1)\n",
        "col_sums = np.sum(weights_matrix, axis=0)\n",
        "\n",
        "print(\"\\nSum of each row:\")\n",
        "print(row_sums)\n",
        "print(\"\\nSum of each column:\")\n",
        "print(col_sums)\n"
      ],
      "metadata": {
        "colab": {
          "base_uri": "https://localhost:8080/"
        },
        "id": "i_BlQDJKAjts",
        "outputId": "520562cd-fe77-4309-bdd3-9bd1850b45d2"
      },
      "execution_count": 13,
      "outputs": [
        {
          "output_type": "stream",
          "name": "stdout",
          "text": [
            "Adjacency Matrix:\n",
            "[[0 1 0 1 1]\n",
            " [1 0 0 1 0]\n",
            " [0 0 0 1 0]\n",
            " [1 1 1 0 0]\n",
            " [1 0 0 0 0]]\n",
            "\n",
            "Metropolis-Hastings Weight Matrix:\n",
            "[[0.25 0.25 0.   0.25 0.25]\n",
            " [0.25 0.5  0.   0.25 0.  ]\n",
            " [0.   0.   0.75 0.25 0.  ]\n",
            " [0.25 0.25 0.25 0.25 0.  ]\n",
            " [0.25 0.   0.   0.   0.75]]\n",
            "\n",
            "Sum of each row:\n",
            "[1. 1. 1. 1. 1.]\n",
            "\n",
            "Sum of each column:\n",
            "[1. 1. 1. 1. 1.]\n"
          ]
        }
      ]
    }
  ]
}